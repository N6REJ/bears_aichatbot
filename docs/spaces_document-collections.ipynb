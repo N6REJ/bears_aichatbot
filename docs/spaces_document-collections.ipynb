{
 "cells": [
  {
   "cell_type": "markdown",
   "id": "bdf5e058-d8dc-455e-8f3c-5ed083d2305c",
   "metadata": {},
   "source": [
    "# Document Collections\n",
    "\n",
    "The IONOS AI Model Hub API allows you to access vector databases to persist your document collections and find semantically\n",
    "similar documents. \n",
    "\n",
    "The vector database is used to persist documents in document collections. Each document is any form of pure text. In the \n",
    "document collection not only the input text is persisted, but also a transformation of the input text into an embedding. \n",
    "Each embedding is a vector of numbers. Input texts which are semantically similar have similar embeddings. A similarity\n",
    "search on a document collection finds the most similar embeddings for a given input text. These embeddings and the \n",
    "corresponding input text are returned to the user.\n",
    "\n",
    "## Overview\n",
    "\n",
    "This tutorial is intended for developers. It assumes you have basic knowledge of:\n",
    "\n",
    "* REST APIs and how to call them\n",
    "* A programming language to handle REST API endpoints (for illustration purposes, the tutorials uses Python and Bash scripting)\n",
    "\n",
    "By the end of this tutorial, you'll be able to:\n",
    "\n",
    "* Create, delete and query a document collection in the IONOS vector database\n",
    "* Save, delete and modify documents in the document collection and\n",
    "* Answer customer queries using the document collection.\n",
    "\n",
    "## Background\n",
    "\n",
    "* The IONOS AI Model Hub API offers a vector database that you can use to persist text in document collections\n",
    "  without having to manage corresponding hardware yourself.\n",
    "* Our AI Model Hub API provides all required functionality without your data being transfered out of Germany.\n"
   ]
  },
  {
   "cell_type": "markdown",
   "id": "c8248dd8-dd95-446b-b078-fd5078f56129",
   "metadata": {},
   "source": [
    "# Prerequisites\n",
    "\n",
    "We strongly suggest that you save your IONOS API token as environment variable in your operating system. You can then access it using the following lines of code:\n"
   ]
  },
  {
   "cell_type": "code",
   "execution_count": 1,
   "id": "94c7f894-0725-405b-9687-4e535881c8c2",
   "metadata": {},
   "outputs": [],
   "source": [
    "from dotenv import load_dotenv\n",
    "import os\n",
    "\n",
    "load_dotenv()\n",
    "IONOS_API_TOKEN = os.getenv('IONOS_API_TOKEN')\n",
    "\n",
    "header = {\n",
    "    \"Authorization\": f\"Bearer {IONOS_API_TOKEN}\", \n",
    "    \"Content-Type\": \"application/json\"\n",
    "}"
   ]
  },
  {
   "cell_type": "markdown",
   "id": "e86b73d7-8d7c-4570-ab6a-be5448a26d51",
   "metadata": {},
   "source": [
    "## Manage document collections\n",
    "\n",
    "In this section you learn how to create a document collection. We will use this document collection to fill it with the data from your\n",
    "knowledge base in the next step. \n",
    "\n",
    "To track, if something went wrong this section also shows how to:\n",
    "* List existing document collections\n",
    "* Remove document collections\n",
    "* Get meta data of a document collection\n",
    "\n",
    "### Create document collections\n",
    "\n",
    "To create a document collection, you have to specify the name of the collection and a description and invoke the \n",
    "endpoint to generate document collections:"
   ]
  },
  {
   "cell_type": "code",
   "execution_count": 2,
   "id": "1239d8af-68f2-4736-9ef9-6e24603f4b31",
   "metadata": {},
   "outputs": [
    {
     "data": {
      "text/plain": [
       "201"
      ]
     },
     "execution_count": 2,
     "metadata": {},
     "output_type": "execute_result"
    }
   ],
   "source": [
    "import requests\n",
    "\n",
    "COLLECTION_NAME = \"my collection\"\n",
    "COLLECTION_DESCRIPTION = \"test collection to check the functionality of IONOS collections\"\n",
    "CHUNK_OVERLAP = 50\n",
    "CHUNK_SIZE = 128\n",
    "EMBEDDING_MODEL = \"BAAI/bge-m3\"\n",
    "DATA_BACKEND = \"pgvector\"\n",
    "\n",
    "endpoint = \"https://inference.de-txl.ionos.com/collections\"\n",
    "body = {\n",
    "    \"properties\": {\n",
    "        \"name\": COLLECTION_NAME,\n",
    "        \"description\": COLLECTION_DESCRIPTION,\n",
    "        \"chunking\": {\n",
    "            \"enabled\": True,\n",
    "            \"strategy\": {\n",
    "                \"config\": {\n",
    "                    \"chunk_overlap\": CHUNK_OVERLAP,\n",
    "                    \"chunk_size\": CHUNK_SIZE\n",
    "                }\n",
    "            }\n",
    "        },\n",
    "        \"embedding\": {\n",
    "            \"model\": EMBEDDING_MODEL\n",
    "        },\n",
    "        \"engine\": {\n",
    "            \"db_type\": DATA_BACKEND\n",
    "        }\n",
    "    }\n",
    "}\n",
    "response = requests.post(endpoint, json=body, headers=header)\n",
    "response.status_code"
   ]
  },
  {
   "cell_type": "code",
   "execution_count": 3,
   "id": "ea89f6dd-e515-4e14-b596-4fb694b1550e",
   "metadata": {},
   "outputs": [
    {
     "data": {
      "text/plain": [
       "{'href': 'https://inference.de-txl.ionos.com/collections',\n",
       " 'id': '6ed916fa-8dea-4c78-9596-c8a27216b258',\n",
       " 'metadata': {'createdDate': '2025-02-03T10:44:16Z',\n",
       "  'lastModifiedDate': '2025-02-03T10:44:16Z'},\n",
       " 'properties': {'chunking': {'enabled': True,\n",
       "   'strategy': {'config': {'chunk_overlap': 50, 'chunk_size': 128},\n",
       "    'name': 'fixed_size'}},\n",
       "  'description': 'test collection to check the functionality of IONOS collections',\n",
       "  'documentsCount': 0,\n",
       "  'embedding': {'model': 'BAAI/bge-m3'},\n",
       "  'engine': {'db_type': 'pgvector'},\n",
       "  'labels': {},\n",
       "  'name': 'my collection',\n",
       "  'totalTokens': 0},\n",
       " 'type': 'collection'}"
      ]
     },
     "execution_count": 3,
     "metadata": {},
     "output_type": "execute_result"
    }
   ],
   "source": [
    "collection_meta_data = response.json()\n",
    "collection_meta_data"
   ]
  },
  {
   "cell_type": "markdown",
   "id": "4b3ddf14-0823-4830-a523-19719ae033c5",
   "metadata": {},
   "source": [
    "You can specify the following parameters when you create your document collection:\n",
    "\n",
    "**Chunking**\n",
    "\n",
    "The AI Model Hub supports fixed-length chunking. If you apply chunking, long documents are\n",
    "split before being uploaded into the document collection. Is is beneficial in the following\n",
    "cases:\n",
    "\n",
    "* If your document exceeds the length of the text, your embedding model can cope with.\n",
    "* If your document spans over different semantic topics. \n",
    "\n",
    "You can control chunking using:\n",
    "\n",
    "* **CHUNK_OVERLAP**: The number of overlaping tokens in two subsequent chunks.\n",
    "* **CHUNK_SIZE**: The maximum number of tokens per chunk.\n",
    "\n",
    "**Embedding model**\n",
    "\n",
    "The AI Model Hub supports different embedding models. You can use any of them when saving\n",
    "your documents to the document collection by setting the parameter **EMBEDDING_MODEL**.\n",
    "\n",
    "**Database engine**\n",
    "\n",
    "The AI Model Hub supports different databases in the backend to persist your data. Upon \n",
    "creation of your collection, you can choose which of them to use by setting **DATA_BACKEND** to:\n",
    "\n",
    "* **pgvector**: PGVector uses a PostgreSQL database as the backend to persist the document collection. We offer the corresponding PostgreSQL as a Database as a Service (DBaaS) offering.\n",
    "This allows you to scale as your demands grow by switching from the managed PostgreSQL to your \n",
    "own DBaaS instance.\n",
    "* **chromadb**: ChromaDB is a state-of-the-art database optimized for persisting document collections. It is strongly optimized but does not support relational database features like\n",
    "PostgreSQL.\n",
    "\n",
    "If you remove the **chunking**, **embedding**, and **engine** sections from the body of your \n",
    "request, we will create a document collection with default parameters. Our approach does not apply chunking; sentence transformers will be used as the embedding models, and the data will be stored in our managed ChromaDB.\n",
    "\n",
    "If the creation of the document collection was successful, the status code of the request is 201 and it returns a JSON document with all relevant information concerning the document collection.\n",
    "\n",
    "To modify the document collection you need its identifier. You can extract it from the returned JSON document in the variable **id**."
   ]
  },
  {
   "cell_type": "code",
   "execution_count": 4,
   "id": "ed88b93d-46e1-4597-93ea-95bc6b3c351d",
   "metadata": {},
   "outputs": [
    {
     "data": {
      "text/plain": [
       "'6ed916fa-8dea-4c78-9596-c8a27216b258'"
      ]
     },
     "execution_count": 4,
     "metadata": {},
     "output_type": "execute_result"
    }
   ],
   "source": [
    "COLLECTION_ID = collection_meta_data['id']\n",
    "COLLECTION_ID"
   ]
  },
  {
   "cell_type": "markdown",
   "id": "53909691-91da-43bf-8e40-5db69cd95ebf",
   "metadata": {},
   "source": [
    "### List existing document collections\n",
    "\n",
    "To ensure that the previous step went as expected, you can list the existing document collections.\n",
    "\n",
    "To retrieve a list of all document collections saved by you:"
   ]
  },
  {
   "cell_type": "code",
   "execution_count": 5,
   "id": "96e62d74-e882-4f71-92f8-b4b097868362",
   "metadata": {},
   "outputs": [
    {
     "data": {
      "text/plain": [
       "{'href': 'https://inference.de-txl.ionos.com/collections',\n",
       " 'id': '153c8eca-bdc9-549b-bbd9-b3fe40ddcba7',\n",
       " 'items': [{'href': 'https://inference.de-txl.ionos.com/collections',\n",
       "   'id': '6ed916fa-8dea-4c78-9596-c8a27216b258',\n",
       "   'metadata': {'createdDate': '2025-02-03T10:44:16Z',\n",
       "    'lastModifiedDate': '2025-02-03T10:44:16Z'},\n",
       "   'properties': {'chunking': {'enabled': True,\n",
       "     'strategy': {'config': {'chunk_overlap': 50, 'chunk_size': 128},\n",
       "      'name': 'fixed_size'}},\n",
       "    'description': 'test collection to check the functionality of IONOS collections',\n",
       "    'documentsCount': 0,\n",
       "    'embedding': {'model': 'BAAI/bge-m3'},\n",
       "    'engine': {'db_type': 'pgvector'},\n",
       "    'labels': {},\n",
       "    'name': 'my collection',\n",
       "    'totalTokens': 0},\n",
       "   'type': 'collection'},\n",
       "  {'href': 'https://inference.de-txl.ionos.com/collections',\n",
       "   'id': '24b23c66-e616-437e-a1cb-f4867fe4c915',\n",
       "   'metadata': {'createdDate': '2025-02-03T10:11:49Z',\n",
       "    'lastModifiedDate': '2025-02-03T10:11:49Z'},\n",
       "   'properties': {'chunking': {'enabled': True,\n",
       "     'strategy': {'config': {'chunk_overlap': 50, 'chunk_size': 128},\n",
       "      'name': 'fixed_size'}},\n",
       "    'description': 'test collection',\n",
       "    'documentsCount': 5,\n",
       "    'embedding': {'model': 'BAAI/bge-m3'},\n",
       "    'engine': {'db_type': 'pgvector'},\n",
       "    'labels': {},\n",
       "    'name': 'collection',\n",
       "    'totalTokens': 649},\n",
       "   'type': 'collection'},\n",
       "  {'href': 'https://inference.de-txl.ionos.com/collections',\n",
       "   'id': 'b4e16c1e-e8db-40d6-a2b2-5f58e33d8190',\n",
       "   'metadata': {'createdDate': '2025-02-03T10:10:34Z',\n",
       "    'lastModifiedDate': '2025-02-03T10:10:34Z'},\n",
       "   'properties': {'chunking': {'enabled': True,\n",
       "     'strategy': {'config': {'chunk_overlap': 50, 'chunk_size': 128},\n",
       "      'name': 'fixed_size'}},\n",
       "    'description': 'test collection',\n",
       "    'documentsCount': 8,\n",
       "    'embedding': {'model': 'BAAI/bge-m3'},\n",
       "    'engine': {'db_type': 'pgvector'},\n",
       "    'labels': {},\n",
       "    'name': 'collection',\n",
       "    'totalTokens': 954},\n",
       "   'type': 'collection'},\n",
       "  {'href': 'https://inference.de-txl.ionos.com/collections',\n",
       "   'id': '44b7a356-c9c6-4b89-a61c-134028a25c57',\n",
       "   'metadata': {'createdDate': '2025-02-03T10:09:22Z',\n",
       "    'lastModifiedDate': '2025-02-03T10:09:22Z'},\n",
       "   'properties': {'chunking': {'enabled': True,\n",
       "     'strategy': {'config': {'chunk_overlap': 50, 'chunk_size': 128},\n",
       "      'name': 'fixed_size'}},\n",
       "    'description': 'test collection',\n",
       "    'documentsCount': 6,\n",
       "    'embedding': {'model': 'BAAI/bge-large-en-v1.5'},\n",
       "    'engine': {'db_type': 'pgvector'},\n",
       "    'labels': {},\n",
       "    'name': 'collection',\n",
       "    'totalTokens': 610},\n",
       "   'type': 'collection'},\n",
       "  {'href': 'https://inference.de-txl.ionos.com/collections',\n",
       "   'id': 'cc25f213-87ce-4dc6-9337-817fd35b3047',\n",
       "   'metadata': {'createdDate': '2025-02-03T10:06:05Z',\n",
       "    'lastModifiedDate': '2025-02-03T10:06:05Z'},\n",
       "   'properties': {'chunking': {'enabled': True,\n",
       "     'strategy': {'config': {'chunk_overlap': 50, 'chunk_size': 128},\n",
       "      'name': 'fixed_size'}},\n",
       "    'description': 'test collection',\n",
       "    'documentsCount': 3,\n",
       "    'embedding': {'model': 'sentence-transformers/paraphrase-multilingual-mpnet-base-v2'},\n",
       "    'engine': {'db_type': 'pgvector'},\n",
       "    'labels': {},\n",
       "    'name': 'collection',\n",
       "    'totalTokens': 305},\n",
       "   'type': 'collection'},\n",
       "  {'href': 'https://inference.de-txl.ionos.com/collections',\n",
       "   'id': 'c667b88b-65e3-4e2e-9c49-0c185d8b3707',\n",
       "   'metadata': {'createdDate': '2025-02-03T10:02:13Z',\n",
       "    'lastModifiedDate': '2025-02-03T10:02:13Z'},\n",
       "   'properties': {'chunking': {'enabled': True,\n",
       "     'strategy': {'config': {'chunk_overlap': 50, 'chunk_size': 128},\n",
       "      'name': 'fixed_size'}},\n",
       "    'description': 'test collection',\n",
       "    'documentsCount': 3,\n",
       "    'embedding': {'model': 'BAAI/bge-m3'},\n",
       "    'engine': {'db_type': 'pgvector'},\n",
       "    'labels': {},\n",
       "    'name': 'collection',\n",
       "    'totalTokens': 305},\n",
       "   'type': 'collection'},\n",
       "  {'href': 'https://inference.de-txl.ionos.com/collections',\n",
       "   'id': '03bdd949-2050-44a5-b3fb-630a6ac05d14',\n",
       "   'metadata': {'createdDate': '2025-02-03T09:52:12Z',\n",
       "    'lastModifiedDate': '2025-02-03T09:52:12Z'},\n",
       "   'properties': {'chunking': {'enabled': True,\n",
       "     'strategy': {'config': {'chunk_overlap': 50, 'chunk_size': 128},\n",
       "      'name': 'fixed_size'}},\n",
       "    'description': 'test collection',\n",
       "    'documentsCount': 3,\n",
       "    'embedding': {'model': 'BAAI/bge-m3'},\n",
       "    'engine': {'db_type': 'pgvector'},\n",
       "    'labels': {},\n",
       "    'name': 'collection',\n",
       "    'totalTokens': 305},\n",
       "   'type': 'collection'},\n",
       "  {'href': 'https://inference.de-txl.ionos.com/collections',\n",
       "   'id': '4562a611-9f55-470d-ae8b-bc9523e9a4bd',\n",
       "   'metadata': {'createdDate': '2025-02-03T09:48:46Z',\n",
       "    'lastModifiedDate': '2025-02-03T09:48:46Z'},\n",
       "   'properties': {'chunking': {'enabled': True,\n",
       "     'strategy': {'config': {'chunk_overlap': 50, 'chunk_size': 1000},\n",
       "      'name': 'fixed_size'}},\n",
       "    'description': 'test collection',\n",
       "    'documentsCount': 5,\n",
       "    'embedding': {'model': 'BAAI/bge-m3'},\n",
       "    'engine': {'db_type': 'pgvector'},\n",
       "    'labels': {},\n",
       "    'name': 'collection',\n",
       "    'totalTokens': 438},\n",
       "   'type': 'collection'},\n",
       "  {'href': 'https://inference.de-txl.ionos.com/collections',\n",
       "   'id': '3baff340-5900-46d1-9479-a71bf9b5e834',\n",
       "   'metadata': {'createdDate': '2025-02-03T09:45:40Z',\n",
       "    'lastModifiedDate': '2025-02-03T09:45:40Z'},\n",
       "   'properties': {'chunking': {'enabled': True,\n",
       "     'strategy': {'config': {'chunk_overlap': 32, 'chunk_size': 128},\n",
       "      'name': 'fixed_size'}},\n",
       "    'description': 'test collection',\n",
       "    'documentsCount': 0,\n",
       "    'embedding': {'model': 'BAAI/bge-m3'},\n",
       "    'engine': {'db_type': 'pgvector'},\n",
       "    'labels': {},\n",
       "    'name': 'collection',\n",
       "    'totalTokens': 0},\n",
       "   'type': 'collection'},\n",
       "  {'href': 'https://inference.de-txl.ionos.com/collections',\n",
       "   'id': '19dbd757-4bcb-41f5-8a57-c5b8a37b4cdb',\n",
       "   'metadata': {'createdDate': '2025-02-03T08:37:30Z',\n",
       "    'lastModifiedDate': '2025-02-03T08:37:30Z'},\n",
       "   'properties': {'chunking': {'enabled': True,\n",
       "     'strategy': {'config': {'chunk_overlap': 32, 'chunk_size': 128},\n",
       "      'name': 'fixed_size'}},\n",
       "    'description': 'test collection',\n",
       "    'documentsCount': 0,\n",
       "    'embedding': {'model': 'BAAI/bge-m3'},\n",
       "    'engine': {'db_type': 'chromadb'},\n",
       "    'labels': {},\n",
       "    'name': 'collection',\n",
       "    'totalTokens': 0},\n",
       "   'type': 'collection'},\n",
       "  {'href': 'https://inference.de-txl.ionos.com/collections',\n",
       "   'id': 'c8530987-f2ca-470e-888d-31cd2754045f',\n",
       "   'metadata': {'createdDate': '2025-02-03T08:23:58Z',\n",
       "    'lastModifiedDate': '2025-02-03T08:23:58Z'},\n",
       "   'properties': {'chunking': {'enabled': True,\n",
       "     'strategy': {'config': {'chunk_overlap': 32, 'chunk_size': 128},\n",
       "      'name': 'fixed_size'}},\n",
       "    'description': 'test collection',\n",
       "    'documentsCount': 0,\n",
       "    'embedding': {'model': 'BAAI/bge-m3'},\n",
       "    'engine': {'db_type': 'chromadb'},\n",
       "    'labels': {},\n",
       "    'name': 'collection',\n",
       "    'totalTokens': 0},\n",
       "   'type': 'collection'},\n",
       "  {'href': 'https://inference.de-txl.ionos.com/collections',\n",
       "   'id': 'ae89daeb-061e-4819-80af-f8b8f3d80d98',\n",
       "   'metadata': {'createdDate': '2025-02-03T08:23:08Z',\n",
       "    'lastModifiedDate': '2025-02-03T08:23:08Z'},\n",
       "   'properties': {'chunking': {'enabled': True,\n",
       "     'strategy': {'config': {'chunk_overlap': 32, 'chunk_size': 128},\n",
       "      'name': 'fixed_size'}},\n",
       "    'description': 'test collection',\n",
       "    'documentsCount': 0,\n",
       "    'embedding': {'model': 'BAAI/bge-m3'},\n",
       "    'engine': {'db_type': 'chromadb'},\n",
       "    'labels': {},\n",
       "    'name': 'collection',\n",
       "    'totalTokens': 0},\n",
       "   'type': 'collection'},\n",
       "  {'href': 'https://inference.de-txl.ionos.com/collections',\n",
       "   'id': '8e97fc1c-9e4f-429d-9c5d-83d9c702d28a',\n",
       "   'metadata': {'createdDate': '2025-02-03T08:21:23Z',\n",
       "    'lastModifiedDate': '2025-02-03T08:21:23Z'},\n",
       "   'properties': {'chunking': {'enabled': True,\n",
       "     'strategy': {'config': {'chunk_overlap': 32, 'chunk_size': 128},\n",
       "      'name': 'fixed_size'}},\n",
       "    'description': 'test collection',\n",
       "    'documentsCount': 0,\n",
       "    'embedding': {'model': 'sentence-transformers/paraphrase-multilingual-mpnet-base-v2'},\n",
       "    'engine': {'db_type': 'chromadb'},\n",
       "    'labels': {},\n",
       "    'name': 'collection',\n",
       "    'totalTokens': 0},\n",
       "   'type': 'collection'},\n",
       "  {'href': 'https://inference.de-txl.ionos.com/collections',\n",
       "   'id': '6018b558-0fcc-48a1-b395-6b751266b9f0',\n",
       "   'metadata': {'createdDate': '2025-02-03T08:21:02Z',\n",
       "    'lastModifiedDate': '2025-02-03T08:21:02Z'},\n",
       "   'properties': {'chunking': {'enabled': True,\n",
       "     'strategy': {'config': {'chunk_overlap': 32, 'chunk_size': 128},\n",
       "      'name': 'fixed_size'}},\n",
       "    'description': 'test collection',\n",
       "    'documentsCount': 0,\n",
       "    'embedding': {'model': 'sentence-transformers/paraphrase-multilingual-mpnet-base-v2'},\n",
       "    'engine': {'db_type': 'chromadb'},\n",
       "    'labels': {},\n",
       "    'name': 'collection',\n",
       "    'totalTokens': 0},\n",
       "   'type': 'collection'},\n",
       "  {'href': 'https://inference.de-txl.ionos.com/collections',\n",
       "   'id': 'c4c9f582-6ca9-4747-9353-e63feec590d0',\n",
       "   'metadata': {'createdDate': '2025-02-03T08:20:28Z',\n",
       "    'lastModifiedDate': '2025-02-03T08:20:28Z'},\n",
       "   'properties': {'chunking': {'enabled': False},\n",
       "    'description': 'test collection',\n",
       "    'documentsCount': 0,\n",
       "    'embedding': {'model': 'sentence-transformers/paraphrase-multilingual-mpnet-base-v2'},\n",
       "    'engine': {'db_type': 'chromadb'},\n",
       "    'labels': {},\n",
       "    'name': 'collection',\n",
       "    'totalTokens': 0},\n",
       "   'type': 'collection'},\n",
       "  {'href': 'https://inference.de-txl.ionos.com/collections',\n",
       "   'id': '053c079d-f3c9-4e98-b15c-efe85332dba2',\n",
       "   'metadata': {'createdDate': '2025-02-03T07:35:38Z',\n",
       "    'lastModifiedDate': '2025-02-03T07:35:38Z'},\n",
       "   'properties': {'chunking': {'enabled': False},\n",
       "    'description': 'test collection',\n",
       "    'documentsCount': 0,\n",
       "    'embedding': {'model': 'sentence-transformers/paraphrase-multilingual-mpnet-base-v2'},\n",
       "    'engine': {'db_type': 'chromadb'},\n",
       "    'labels': {},\n",
       "    'name': 'collection',\n",
       "    'totalTokens': 0},\n",
       "   'type': 'collection'},\n",
       "  {'href': 'https://inference.de-txl.ionos.com/collections',\n",
       "   'id': '44602029-4e3d-437e-b8b7-2f89527bf1f7',\n",
       "   'metadata': {'createdDate': '2025-02-03T07:35:26Z',\n",
       "    'lastModifiedDate': '2025-02-03T07:35:26Z'},\n",
       "   'properties': {'chunking': {'enabled': False},\n",
       "    'description': 'test collection',\n",
       "    'documentsCount': 0,\n",
       "    'embedding': {'model': 'sentence-transformers/paraphrase-multilingual-mpnet-base-v2'},\n",
       "    'engine': {'db_type': 'chromadb'},\n",
       "    'labels': {},\n",
       "    'name': 'collection',\n",
       "    'totalTokens': 0},\n",
       "   'type': 'collection'},\n",
       "  {'href': 'https://inference.de-txl.ionos.com/collections',\n",
       "   'id': 'cf911ba8-356f-468e-8ffb-cf71b18bb3f2',\n",
       "   'metadata': {'createdDate': '2025-02-03T07:32:44Z',\n",
       "    'lastModifiedDate': '2025-02-03T07:32:44Z'},\n",
       "   'properties': {'chunking': {'enabled': False},\n",
       "    'description': 'IONOS sample collection',\n",
       "    'documentsCount': 0,\n",
       "    'embedding': {'model': 'sentence-transformers/paraphrase-multilingual-mpnet-base-v2'},\n",
       "    'engine': {'db_type': 'chromadb'},\n",
       "    'labels': {},\n",
       "    'name': 'ionos-data',\n",
       "    'totalTokens': 0},\n",
       "   'type': 'collection'}],\n",
       " 'type': 'collection'}"
      ]
     },
     "execution_count": 5,
     "metadata": {},
     "output_type": "execute_result"
    }
   ],
   "source": [
    "import requests\n",
    "\n",
    "endpoint = \"https://inference.de-txl.ionos.com/collections\"\n",
    "response = requests.get(endpoint, headers=header)\n",
    "response.json()"
   ]
  },
  {
   "cell_type": "markdown",
   "id": "a093b470-32e7-4a05-bfac-578d6b4a9c4b",
   "metadata": {},
   "source": [
    "This query returns a JSON document consisting of your document collections and corresponding meta information\n",
    "\n",
    "The result consists of 8 attributes per collection of which 3 are relevant for you:\n",
    "* **id**: The identifier of the document collection\n",
    "* **properties.description**: The textual description of the document collection\n",
    "* **properties.documentsCount**: The number of documents persisted in the document collection\n",
    "\n",
    "If you have not created a collection yet, the field **items** is an empty list."
   ]
  },
  {
   "cell_type": "markdown",
   "id": "f0cc2240-fcdb-4e10-b445-c6ddf16b1b61",
   "metadata": {},
   "source": [
    "### Get meta data for a document collection\n",
    "\n",
    "If you are interested in the meta data of a collection, you can extract it by invoking: "
   ]
  },
  {
   "cell_type": "code",
   "execution_count": 6,
   "id": "ee39f1b9-a040-4387-9c4c-c59dca6585ed",
   "metadata": {},
   "outputs": [
    {
     "data": {
      "text/plain": [
       "200"
      ]
     },
     "execution_count": 6,
     "metadata": {},
     "output_type": "execute_result"
    }
   ],
   "source": [
    "import requests\n",
    "\n",
    "endpoint = f\"https://inference.de-txl.ionos.com/collections/{COLLECTION_ID}\"\n",
    "result = requests.get(endpoint, headers=header)\n",
    "result.status_code"
   ]
  },
  {
   "cell_type": "markdown",
   "id": "6daf24ac-687e-47fa-ac8c-13f357ceb0af",
   "metadata": {},
   "source": [
    "This query returns a status code which indicates whether the collection exists:\n",
    "* 200: Status code if the collection exists\n",
    "* 404: Status code given the collection does not exist"
   ]
  },
  {
   "cell_type": "code",
   "execution_count": 7,
   "id": "b13fd8b5-d21f-4fbc-a89e-2cf99644929a",
   "metadata": {},
   "outputs": [
    {
     "data": {
      "text/plain": [
       "{'href': 'https://inference.de-txl.ionos.com/collections/6ed916fa-8dea-4c78-9596-c8a27216b258',\n",
       " 'id': '6ed916fa-8dea-4c78-9596-c8a27216b258',\n",
       " 'metadata': {'createdDate': '2025-02-03T10:44:16Z',\n",
       "  'lastModifiedDate': '2025-02-03T10:44:16Z'},\n",
       " 'properties': {'chunking': {'enabled': True,\n",
       "   'strategy': {'config': {'chunk_overlap': 50, 'chunk_size': 128},\n",
       "    'name': 'fixed_size'}},\n",
       "  'description': 'test collection to check the functionality of IONOS collections',\n",
       "  'documentsCount': 0,\n",
       "  'embedding': {'model': 'BAAI/bge-m3'},\n",
       "  'engine': {'db_type': 'pgvector'},\n",
       "  'labels': {},\n",
       "  'name': 'my collection',\n",
       "  'totalTokens': 0},\n",
       " 'type': 'collection'}"
      ]
     },
     "execution_count": 7,
     "metadata": {},
     "output_type": "execute_result"
    }
   ],
   "source": [
    "result.json()"
   ]
  },
  {
   "cell_type": "markdown",
   "id": "1bf79337-5cba-47f9-88c7-8d94aada891d",
   "metadata": {},
   "source": [
    "The body of the request consists of all meta data of the document collection."
   ]
  },
  {
   "cell_type": "markdown",
   "id": "d062a0a4-865b-47f7-bcb2-b74c43ec6ada",
   "metadata": {},
   "source": [
    "## Manage documents in document collection\n",
    "\n",
    "In this section, you learn how to add documents to the newly created document collection. To validate your insertion, this section\n",
    "also shows how to\n",
    "\n",
    "* List the documents in the document collection,\n",
    "* Get meta data for a document,\n",
    "* Update an existing document and\n",
    "* Prune a document collection.\n",
    "\n",
    "### Add documents to document collection\n",
    "\n",
    "To add an entry to the document collection, you need to at least specify the **content**, the **name** of the content and the **contentType**:"
   ]
  },
  {
   "cell_type": "code",
   "execution_count": 8,
   "id": "d7f1e9a1-1efd-4cf7-973c-bd615dc6d6de",
   "metadata": {},
   "outputs": [
    {
     "data": {
      "text/plain": [
       "200"
      ]
     },
     "execution_count": 8,
     "metadata": {},
     "output_type": "execute_result"
    }
   ],
   "source": [
    "import requests\n",
    "import base64\n",
    "\n",
    "CONTENT = 'IONOS grows cows!'\n",
    "NAME = 'IONOS know how'\n",
    "\n",
    "content_base64 = base64.b64encode(CONTENT.encode('utf-8')).decode(\"utf-8\")\n",
    "body = { \n",
    "    \"items\": [{ \n",
    "        \"properties\": { \n",
    "            \"name\": NAME, \n",
    "            \"contentType\": \"text/plain\", \n",
    "            \"content\": content_base64\n",
    "        }\n",
    "    }]\n",
    "}\n",
    "endpoint = f\"https://inference.de-txl.ionos.com/collections/{COLLECTION_ID}/documents\"\n",
    "response = requests.put(endpoint, json=body, headers=header)\n",
    "response.status_code"
   ]
  },
  {
   "cell_type": "markdown",
   "id": "53731133-e168-4a84-97dd-1deac8ac6328",
   "metadata": {},
   "source": [
    "**Note:** You need to encode your content using base64 prior to adding it to the document collection. This is done here in line 7 of the source code. We imply a document limit of 65535 characters for each document you upload. Please ensure that your documents do not exceed this limit."
   ]
  },
  {
   "cell_type": "markdown",
   "id": "f14c9fca-e986-485f-87cc-9f1bdfac6e02",
   "metadata": {},
   "source": [
    "This request returns a status code 200 if adding the document to the document collection was successful."
   ]
  },
  {
   "cell_type": "code",
   "execution_count": 9,
   "id": "db67fd8d-e7db-4f34-9244-7d2f09dba329",
   "metadata": {},
   "outputs": [
    {
     "data": {
      "text/plain": [
       "{'href': 'https://inference.de-txl.ionos.com/collections/6ed916fa-8dea-4c78-9596-c8a27216b258/documents',\n",
       " 'id': 'f6f26e8b-afeb-5a90-a17f-2cedcc18ee75',\n",
       " 'items': [{'href': 'https://inference.de-txl.ionos.com/collections/6ed916fa-8dea-4c78-9596-c8a27216b258/documents',\n",
       "   'id': '6305e201-f94b-48aa-875a-ff5167062c3a',\n",
       "   'metadata': {'createdDate': '2025-02-03T10:44:30Z',\n",
       "    'lastModifiedDate': '2025-02-03T10:44:30Z'},\n",
       "   'properties': {'content': 'SU9OT1MgZ3Jvd3MgY293cyE=',\n",
       "    'contentType': 'text/plain',\n",
       "    'description': '',\n",
       "    'labels': {'number_of_tokens': '5'},\n",
       "    'name': 'IONOS know how'},\n",
       "   'type': 'document'}],\n",
       " 'type': 'collection'}"
      ]
     },
     "execution_count": 9,
     "metadata": {},
     "output_type": "execute_result"
    }
   ],
   "source": [
    "response.json()"
   ]
  },
  {
   "cell_type": "markdown",
   "id": "9d350949-adb3-4d40-ac3e-9933d91efffe",
   "metadata": {},
   "source": [
    "The body of the reponse consists of the uploaded document and some meta information. This meta information includes the **ID** of the document which you can use to manipulate the document:"
   ]
  },
  {
   "cell_type": "code",
   "execution_count": 10,
   "id": "0a62e9f9-b1d1-42ef-a757-1bd390eba294",
   "metadata": {},
   "outputs": [],
   "source": [
    "DOCUMENT_ID = response.json()['items'][0]['id']"
   ]
  },
  {
   "cell_type": "markdown",
   "id": "7cc809a3-3fce-4bca-81f3-ca947f1072fa",
   "metadata": {},
   "source": [
    "### List existing documents in document collection\n",
    "\n",
    "To ensure that the previous step went as expected, you can list the existing documents of your document collection.\n",
    "\n",
    "To retrieve a list of all documents in the document collection saved by you:"
   ]
  },
  {
   "cell_type": "code",
   "execution_count": 11,
   "id": "5c5bc176-2010-4697-8fa3-fb956620e7a9",
   "metadata": {},
   "outputs": [
    {
     "data": {
      "text/plain": [
       "200"
      ]
     },
     "execution_count": 11,
     "metadata": {},
     "output_type": "execute_result"
    }
   ],
   "source": [
    "import requests\n",
    "\n",
    "endpoint_coll = f\"https://inference.de-txl.ionos.com/collections/{COLLECTION_ID}\"\n",
    "endpoint = f\"{endpoint_coll}/documents\"\n",
    "\n",
    "response = requests.get(endpoint, headers=header)\n",
    "response.status_code"
   ]
  },
  {
   "cell_type": "markdown",
   "id": "c3310484-f795-4005-a6b9-6a9261cc35f9",
   "metadata": {},
   "source": [
    "If you have not created the collection yet, the request will return a status code 404. It will return a JSON document with the \n",
    "field **items** set to an empty list if no documents were added yet."
   ]
  },
  {
   "cell_type": "code",
   "execution_count": 12,
   "id": "e512024a-0bf2-4ed5-94cd-1bb413645b6d",
   "metadata": {},
   "outputs": [
    {
     "data": {
      "text/plain": [
       "{'href': 'https://inference.de-txl.ionos.com/collections/6ed916fa-8dea-4c78-9596-c8a27216b258/documents',\n",
       " 'id': 'f6f26e8b-afeb-5a90-a17f-2cedcc18ee75',\n",
       " 'items': [{'href': 'https://inference.de-txl.ionos.com/collections/6ed916fa-8dea-4c78-9596-c8a27216b258/documents',\n",
       "   'id': '6305e201-f94b-48aa-875a-ff5167062c3a',\n",
       "   'metadata': {'createdDate': '2025-02-03T10:44:30Z',\n",
       "    'lastModifiedDate': '2025-02-03T10:44:30Z'},\n",
       "   'properties': {'content': 'SU9OT1MgZ3Jvd3MgY293cyE=',\n",
       "    'contentType': 'text/plain',\n",
       "    'description': '',\n",
       "    'labels': {'number_of_tokens': '5'},\n",
       "    'name': 'IONOS know how'},\n",
       "   'type': 'document'}],\n",
       " 'type': 'collection'}"
      ]
     },
     "execution_count": 12,
     "metadata": {},
     "output_type": "execute_result"
    }
   ],
   "source": [
    "response.json()"
   ]
  },
  {
   "cell_type": "markdown",
   "id": "bd958523-af3a-4c4d-8ee5-db5a457997aa",
   "metadata": {},
   "source": [
    "This query returns a JSON document consisting of your documents in the document collection and corresponding meta information\n",
    "\n",
    "The result has a field **items** with all documents in the collection. This field consists of 10 attributes per entry of which 5 are relevant for you:\n",
    "* **id**: The identifier of the document \n",
    "* **properties.content**: The base64 encoded content of the document\n",
    "* **properties.name**: The name of the document\n",
    "* **properties.description**: The description of the document\n",
    "* **properties.labels.number_of_tokens**: The number of tokens in the document "
   ]
  },
  {
   "cell_type": "markdown",
   "id": "e971f975-d696-466f-b987-510c7363339a",
   "metadata": {},
   "source": [
    "### Get meta data for a document \n",
    "\n",
    "If you are interested in the metadata of a document, you can extract it by invoking: "
   ]
  },
  {
   "cell_type": "code",
   "execution_count": 13,
   "id": "c0e9029a-3737-498c-a6fc-89ed622713fa",
   "metadata": {},
   "outputs": [
    {
     "data": {
      "text/plain": [
       "200"
      ]
     },
     "execution_count": 13,
     "metadata": {},
     "output_type": "execute_result"
    }
   ],
   "source": [
    "import requests\n",
    "\n",
    "endpoint_coll = f\"https://inference.de-txl.ionos.com/collections/{COLLECTION_ID}\"\n",
    "endpoint = f\"{endpoint_coll}/documents/{DOCUMENT_ID}\"\n",
    "\n",
    "response = requests.get(endpoint, headers=header)\n",
    "response.status_code"
   ]
  },
  {
   "cell_type": "markdown",
   "id": "e2239b67-8bd5-4337-af32-7ef0b3fd1582",
   "metadata": {},
   "source": [
    "This query returns a status code which indicates whether the document exists:\n",
    "* 200: Status code if the document exists\n",
    "* 404: Status code given the document does not exist"
   ]
  },
  {
   "cell_type": "code",
   "execution_count": 14,
   "id": "b952b31b-ad49-453d-886b-5a8e9cd57bfd",
   "metadata": {},
   "outputs": [
    {
     "data": {
      "text/plain": [
       "{'href': 'https://inference.de-txl.ionos.com/collections/6ed916fa-8dea-4c78-9596-c8a27216b258/documents/6305e201-f94b-48aa-875a-ff5167062c3a',\n",
       " 'id': '6305e201-f94b-48aa-875a-ff5167062c3a',\n",
       " 'metadata': {'createdDate': '2025-02-03T10:44:30Z',\n",
       "  'lastModifiedDate': '2025-02-03T10:44:30Z'},\n",
       " 'properties': {'content': 'SU9OT1MgZ3Jvd3MgY293cyE=',\n",
       "  'contentType': 'text/plain',\n",
       "  'description': '',\n",
       "  'labels': {'number_of_tokens': '5'},\n",
       "  'name': 'IONOS know how'},\n",
       " 'type': 'document'}"
      ]
     },
     "execution_count": 14,
     "metadata": {},
     "output_type": "execute_result"
    }
   ],
   "source": [
    "response.json()"
   ]
  },
  {
   "cell_type": "markdown",
   "id": "6a43dfc6-faa7-4b44-8628-82a97a340b21",
   "metadata": {},
   "source": [
    "The body of the request consists of all meta data of the document."
   ]
  },
  {
   "cell_type": "markdown",
   "id": "02bbded8-336a-4b67-b009-c008e500e797",
   "metadata": {},
   "source": [
    "### Update a document\n",
    "\n",
    "If you want to update a document, invoke: "
   ]
  },
  {
   "cell_type": "code",
   "execution_count": 15,
   "id": "94c49b25-6953-4706-bc57-e5fc7ea649c4",
   "metadata": {},
   "outputs": [
    {
     "data": {
      "text/plain": [
       "200"
      ]
     },
     "execution_count": 15,
     "metadata": {},
     "output_type": "execute_result"
    }
   ],
   "source": [
    "CONTENT = 'IONOS hosts your AI workloads'\n",
    "NAME = 'True IONOS know how'\n",
    "\n",
    "endpoint_coll = f\"https://inference.de-txl.ionos.com/collections/{COLLECTION_ID}\"\n",
    "endpoint = f\"{endpoint_coll}/documents/{DOCUMENT_ID}\"\n",
    "content_base64 = base64.b64encode(CONTENT.encode('utf-8')).decode(\"utf-8\")\n",
    "body = { \n",
    "    \"properties\": { \n",
    "        \"id\": DOCUMENT_ID, \n",
    "        \"name\": NAME, \n",
    "        \"contentType\": \n",
    "        \"text/plain\", \n",
    "        \"content\": content_base64\n",
    "    }\n",
    "}\n",
    "\n",
    "response = requests.put(endpoint, json=body, headers=header)\n",
    "response.status_code"
   ]
  },
  {
   "cell_type": "markdown",
   "id": "d50342fc-3661-4bb7-a8e4-1b6e7121d580",
   "metadata": {},
   "source": [
    "This will replace the existing entry in the document collection with the given **id** by the payload of this request. It returns the status code 200 on success."
   ]
  },
  {
   "cell_type": "code",
   "execution_count": 16,
   "id": "e44907ff-20a8-4f60-b3d3-09af5e71f941",
   "metadata": {},
   "outputs": [
    {
     "data": {
      "text/plain": [
       "{'href': 'https://inference.de-txl.ionos.com/collections/6ed916fa-8dea-4c78-9596-c8a27216b258/documents/6305e201-f94b-48aa-875a-ff5167062c3a',\n",
       " 'id': '6305e201-f94b-48aa-875a-ff5167062c3a',\n",
       " 'metadata': {'createdDate': '2025-02-03T10:44:30Z',\n",
       "  'lastModifiedDate': '2025-02-03T10:44:40Z'},\n",
       " 'properties': {'content': 'SU9OT1MgaG9zdHMgeW91ciBBSSB3b3JrbG9hZHM=',\n",
       "  'contentType': 'text/plain',\n",
       "  'description': '',\n",
       "  'labels': {'number_of_tokens': '7'},\n",
       "  'name': 'True IONOS know how'},\n",
       " 'type': 'document'}"
      ]
     },
     "execution_count": 16,
     "metadata": {},
     "output_type": "execute_result"
    }
   ],
   "source": [
    "response.json()"
   ]
  },
  {
   "cell_type": "markdown",
   "id": "b48a0c86-722e-483f-adae-dc8da545cd03",
   "metadata": {},
   "source": [
    "The body of the reponse consists of the updated document."
   ]
  },
  {
   "cell_type": "markdown",
   "id": "e9d246c2-84d9-42dc-906f-130611c75ea2",
   "metadata": {},
   "source": [
    "## Query documents in the document collection\n",
    "\n",
    "Finally, this section shows how to use the document collection and the contained documents to answer a user query.\n",
    "\n",
    "To retrieve the documents relevant for answering the user query, invoke the **query** endpoint as follows:"
   ]
  },
  {
   "cell_type": "code",
   "execution_count": 17,
   "id": "508c5fd8-df69-48d2-afc4-c611d39d9ddf",
   "metadata": {},
   "outputs": [],
   "source": [
    "import requests\n",
    "import base64\n",
    "\n",
    "USER_QUERY = \"What does IONOS do?\"\n",
    "NUM_OF_DOCUMENTS = 1\n",
    "\n",
    "endpoint = f\"https://inference.de-txl.ionos.com/collections/{COLLECTION_ID}/query\"\n",
    "body = {\"query\": USER_QUERY, \"limit\": NUM_OF_DOCUMENTS }\n",
    "\n",
    "relevant_documents = requests.post(endpoint, json=body, headers=header)"
   ]
  },
  {
   "cell_type": "code",
   "execution_count": 18,
   "id": "649fa433-cc26-4744-a4fa-968f860cfdc6",
   "metadata": {},
   "outputs": [
    {
     "data": {
      "text/plain": [
       "['IONOS hosts your AI workloads']"
      ]
     },
     "execution_count": 18,
     "metadata": {},
     "output_type": "execute_result"
    }
   ],
   "source": [
    "[\n",
    "    base64.b64decode(entry['document']['properties']['content']).decode()\n",
    "    for entry in relevant_documents.json()['properties']['matches']\n",
    "]"
   ]
  },
  {
   "cell_type": "markdown",
   "id": "595e3b2a-b0c8-4b5c-9121-b6eb32a4ac50",
   "metadata": {},
   "source": [
    "This will return a list of the **NUM_OF_DOCUMENTS** most relevant documents in your document collection for answering the user query. "
   ]
  },
  {
   "cell_type": "markdown",
   "id": "7fa2056a-2843-4ee7-8393-7b981aa23d8e",
   "metadata": {},
   "source": [
    "## Prune a document collection\n",
    "\n",
    "If you want to remove all documents from a document collection invoke: "
   ]
  },
  {
   "cell_type": "code",
   "execution_count": 19,
   "id": "0fdb0abc-535b-4878-8da5-2c877edd580d",
   "metadata": {},
   "outputs": [
    {
     "data": {
      "text/plain": [
       "204"
      ]
     },
     "execution_count": 19,
     "metadata": {},
     "output_type": "execute_result"
    }
   ],
   "source": [
    "import requests\n",
    "\n",
    "endpoint_coll = f\"https://inference.de-txl.ionos.com/collections/{COLLECTION_ID}\"\n",
    "endpoint = f\"{endpoint_coll}/documents\"\n",
    "response = requests.delete(endpoint, headers=header)\n",
    "response.status_code"
   ]
  },
  {
   "cell_type": "markdown",
   "id": "a398a585-9c18-4ab9-b40a-0abcf192cc33",
   "metadata": {},
   "source": [
    "This query returns the status code 204 if pruning the document collection was successful."
   ]
  },
  {
   "cell_type": "markdown",
   "id": "600f54fb-4bb9-4c17-bd56-54dd0cd11f85",
   "metadata": {},
   "source": [
    "## Remove a document collection\n",
    "\n",
    "If the list of document collections consists of document collections you do not need anymore, you can\n",
    "remove a document collection by invoking: "
   ]
  },
  {
   "cell_type": "code",
   "execution_count": 20,
   "id": "36ba49e4-0fad-4f12-aa2e-76ffab153215",
   "metadata": {},
   "outputs": [
    {
     "data": {
      "text/plain": [
       "204"
      ]
     },
     "execution_count": 20,
     "metadata": {},
     "output_type": "execute_result"
    }
   ],
   "source": [
    "import requests\n",
    "\n",
    "endpoint = f\"https://inference.de-txl.ionos.com/collections/{COLLECTION_ID}\"\n",
    "response = requests.delete(endpoint, headers=header)\n",
    "response.status_code"
   ]
  },
  {
   "cell_type": "markdown",
   "id": "9453fc44-336a-47d9-b395-2bb57b50ed64",
   "metadata": {},
   "source": [
    "This query returns a status code which indicates whether the deletion was successful:\n",
    " * 204: Status code for successfull deletion\n",
    " * 404: Status code given the collection did not exist"
   ]
  },
  {
   "cell_type": "markdown",
   "id": "f70f2e68-2348-476c-909b-eea2b06d9887",
   "metadata": {},
   "source": [
    "## Summary\n",
    "\n",
    "In this tutorial you learned how to use the IONOS AI Model Hub API to conduct semantic similarity searches using\n",
    "our vector database.\n",
    "\n",
    "Namely, you learned how to:\n",
    "\n",
    "* Create a necessary document collection in the vector database and modify it\n",
    "* Insert your documents into the document collection and modify the documents\n",
    "* Conduct semantic similarity searches using your document collection."
   ]
  },
  {
   "cell_type": "code",
   "execution_count": null,
   "id": "6b388168-a23f-48d6-9f5d-f0bd595c2d26",
   "metadata": {},
   "outputs": [],
   "source": []
  }
 ],
 "metadata": {
  "kernelspec": {
   "display_name": "Python 3 (ipykernel)",
   "language": "python",
   "name": "python3"
  },
  "language_info": {
   "codemirror_mode": {
    "name": "ipython",
    "version": 3
   },
   "file_extension": ".py",
   "mimetype": "text/x-python",
   "name": "python",
   "nbconvert_exporter": "python",
   "pygments_lexer": "ipython3",
   "version": "3.10.13"
  }
 },
 "nbformat": 4,
 "nbformat_minor": 5
}
